{
  "nbformat": 4,
  "nbformat_minor": 0,
  "metadata": {
    "colab": {
      "provenance": [],
      "toc_visible": true,
      "authorship_tag": "ABX9TyPzzFeWTkSonvxV0IDL1AE1",
      "include_colab_link": true
    },
    "kernelspec": {
      "name": "python3",
      "display_name": "Python 3"
    },
    "language_info": {
      "name": "python"
    }
  },
  "cells": [
    {
      "cell_type": "markdown",
      "metadata": {
        "id": "view-in-github",
        "colab_type": "text"
      },
      "source": [
        "<a href=\"https://colab.research.google.com/github/treena95d/MachineLearning/blob/main/MachineLearning.ipynb\" target=\"_parent\"><img src=\"https://colab.research.google.com/assets/colab-badge.svg\" alt=\"Open In Colab\"/></a>"
      ]
    },
    {
      "cell_type": "code",
      "execution_count": null,
      "metadata": {
        "colab": {
          "base_uri": "https://localhost:8080/"
        },
        "id": "JNducnKOcSVX",
        "outputId": "34295d1d-6615-4dc1-b909-7d13ffcdf9b7"
      },
      "outputs": [
        {
          "output_type": "execute_result",
          "data": {
            "text/plain": [
              "Index(['Suburb', 'Address', 'Rooms', 'Type', 'Price', 'Method', 'SellerG',\n",
              "       'Date', 'Distance', 'Postcode', 'Bedroom2', 'Bathroom', 'Car',\n",
              "       'Landsize', 'BuildingArea', 'YearBuilt', 'CouncilArea', 'Lattitude',\n",
              "       'Longtitude', 'Regionname', 'Propertycount'],\n",
              "      dtype='object')"
            ]
          },
          "metadata": {},
          "execution_count": 3
        }
      ],
      "source": [
        "import pandas as pd\n",
        "file_path = '/content/sample_data/melb_data.csv'\n",
        "data = pd.read_csv(file_path)\n",
        "data.describe()\n",
        "data.columns"
      ]
    },
    {
      "cell_type": "markdown",
      "source": [
        "# New Section"
      ],
      "metadata": {
        "id": "4HBlaP7lfDYR"
      }
    },
    {
      "cell_type": "code",
      "source": [
        "#Feature Selection\n",
        "\n",
        "Y = data.Price\n",
        "features = ['Rooms','Bathroom','Bedroom2','Lattitude','Longtitude']\n",
        "X = data[features]\n",
        "\n",
        "X.describe()\n",
        "X.head()\n",
        "\n",
        "# Running the model\n",
        "\n",
        "from sklearn.tree import DecisionTreeRegressor\n",
        "\n",
        "model = DecisionTreeRegressor(random_state = 1)\n",
        "\n",
        "model.fit(X, Y)\n",
        "\n",
        "\n",
        "print(X.head())\n",
        "print(\"Predictions are\")\n",
        "print(model.predict(X.head()))\n",
        "print(\"Comparing it with actual values\")\n",
        "print(Y.head())\n"
      ],
      "metadata": {
        "colab": {
          "base_uri": "https://localhost:8080/"
        },
        "id": "Q_coV8fFcZot",
        "outputId": "2d2f82a8-afe6-40bd-9a57-7a69610c2881"
      },
      "execution_count": null,
      "outputs": [
        {
          "output_type": "stream",
          "name": "stdout",
          "text": [
            "   Rooms  Bathroom  Bedroom2  Lattitude  Longtitude\n",
            "0      2       1.0       2.0   -37.7996    144.9984\n",
            "1      2       1.0       2.0   -37.8079    144.9934\n",
            "2      3       2.0       3.0   -37.8093    144.9944\n",
            "3      3       2.0       3.0   -37.7969    144.9969\n",
            "4      4       1.0       3.0   -37.8072    144.9941\n",
            "Predictions are\n",
            "[1480000. 1035000. 1465000.  850000. 1600000.]\n",
            "Comparing it with actual values\n",
            "0    1480000.0\n",
            "1    1035000.0\n",
            "2    1465000.0\n",
            "3     850000.0\n",
            "4    1600000.0\n",
            "Name: Price, dtype: float64\n"
          ]
        }
      ]
    },
    {
      "cell_type": "code",
      "source": [
        "#Model Validations\n",
        "\n",
        "from sklearn.metrics import mean_absolute_error\n",
        "from sklearn.model_selection import train_test_split\n",
        "\n",
        "train_x, test_x, train_y, test_y = train_test_split(X, Y, random_state = 1)\n",
        "\n",
        "model_1 = DecisionTreeRegressor()\n",
        "model_1.fit(train_x, train_y)\n",
        "\n",
        "predicted_data = model_1.predict(test_x)\n",
        "\n",
        "\n",
        "print(mean_absolute_error(test_y, predicted_data))\n",
        "\n"
      ],
      "metadata": {
        "colab": {
          "base_uri": "https://localhost:8080/"
        },
        "id": "C-zFJ3HvjKwk",
        "outputId": "28203a69-1a5d-43ec-9b53-a58f4b4dace7"
      },
      "execution_count": null,
      "outputs": [
        {
          "output_type": "stream",
          "name": "stdout",
          "text": [
            "300170.71016200294\n"
          ]
        }
      ]
    },
    {
      "cell_type": "code",
      "source": [
        "# Over-fitting vs Under-fitting\n",
        "\n",
        "def get_mea(max_leaf_val, train_x, test_x, train_y, test_y):\n",
        "    model_2 = DecisionTreeRegressor(max_leaf_nodes = max_leaf_val, random_state = 1)\n",
        "    model_2.fit(train_x, train_y)\n",
        "\n",
        "    predict_x = model_2.predict(test_x)\n",
        "    mae = mean_absolute_error(test_y, predict_x)\n",
        "    return mae\n",
        "\n",
        "\n",
        "for max_leaf_val in [5,50,500, 5000]:\n",
        "  mae = get_mea(max_leaf_val, train_x, test_x, train_y, test_y)\n",
        "  print(\"Max leaf node %d \\t\\t Mean Absolute Error %d \" %(max_leaf_val, mae))\n",
        "\n",
        "\n",
        "\n",
        "\n",
        "\n",
        "\n"
      ],
      "metadata": {
        "colab": {
          "base_uri": "https://localhost:8080/"
        },
        "id": "GPo8iJE9yYxU",
        "outputId": "4d7111c8-e465-4b61-9316-95a4ea16c8a9"
      },
      "execution_count": null,
      "outputs": [
        {
          "output_type": "stream",
          "name": "stdout",
          "text": [
            "Max leaf node 5 \t\t Mean Absolute Error 356157 \n",
            "Max leaf node 50 \t\t Mean Absolute Error 273313 \n",
            "Max leaf node 500 \t\t Mean Absolute Error 263441 \n",
            "Max leaf node 5000 \t\t Mean Absolute Error 298852 \n"
          ]
        }
      ]
    },
    {
      "cell_type": "code",
      "source": [
        "#Random Forest : It provides better prediction than a single decision tree\n",
        "\n",
        "from sklearn.ensemble import RandomForestRegressor\n",
        "\n",
        "\n",
        "rf_model = RandomForestRegressor(random_state=1)\n",
        "rf_model.fit(train_x, train_y)\n",
        "rf_predict_x = rf_model.predict(test_x)\n",
        "print(\"In-sample data mea value\")\n",
        "print(mean_absolute_error(test_y, rf_predict_x))\n",
        "\n",
        "\n",
        "train_x, test_x, train_y, test_y = train_test_split(X, Y, random_state=1)\n",
        "rf_model.fit(train_x, train_y)\n",
        "rf_model_x1 = rf_model.predict(test_x)\n",
        "print(\"Out sample data mea value\")\n",
        "\n",
        "print(mean_absolute_error(test_y, rf_model_x1))\n"
      ],
      "metadata": {
        "colab": {
          "base_uri": "https://localhost:8080/"
        },
        "id": "g2Bh9hy62e5s",
        "outputId": "3e295b84-276c-421f-ad8c-a6997113403e"
      },
      "execution_count": null,
      "outputs": [
        {
          "output_type": "stream",
          "name": "stdout",
          "text": [
            "In-sample data mea value\n",
            "232669.7561864658\n",
            "Out sample data mea value\n",
            "232669.7561864658\n"
          ]
        }
      ]
    }
  ]
}